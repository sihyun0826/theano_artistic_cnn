{
 "cells": [
  {
   "cell_type": "markdown",
   "metadata": {},
   "source": [
    "### Theano tutorial : 'A Neural Algorithm of Artistic Style'\n",
    "\n",
    "** Author : Sihyeon Seong (sihyun0826@kaist.ac.kr)\n",
    "\n",
    "Section 1 : Preprocessing input images\n",
    "\n",
    "- Load images\n",
    "- Subtracting per-pixel mean\n",
    "- Save as numpy array\n"
   ]
  },
  {
   "cell_type": "code",
   "execution_count": 12,
   "metadata": {
    "collapsed": true
   },
   "outputs": [],
   "source": [
    "\n",
    "import numpy as np\n",
    "from os import listdir\n",
    "from os.path import isfile, join\n",
    "\n",
    "from scipy import misc\n",
    "import matplotlib.pyplot as plt\n"
   ]
  },
  {
   "cell_type": "code",
   "execution_count": 13,
   "metadata": {
    "collapsed": false
   },
   "outputs": [
    {
     "name": "stdout",
     "output_type": "stream",
     "text": [
      "img_mean shape :  (3, 256, 256)\n",
      "[[[ 117.18525882  117.01737907  117.29295626 ...,  117.741563    117.53182298\n",
      "    117.3055095 ]\n",
      "  [ 116.90278012  117.41529979  117.7264173  ...,  118.1715565\n",
      "    117.96947442  117.65615242]\n",
      "  [ 117.08472207  117.70037876  118.17823554 ...,  118.65122824\n",
      "    118.40002295  117.88417859]\n",
      "  ..., \n",
      "  [ 113.44149758  113.94046169  114.45755037 ...,  114.54247618\n",
      "    114.29489065  113.81838357]\n",
      "  [ 113.3094743   113.80487329  114.23664038 ...,  114.33390085\n",
      "    114.10265303  113.68978177]\n",
      "  [ 113.17652753  113.53816166  113.76558519 ...,  113.83179472\n",
      "    113.66394931  113.43213086]]\n",
      "\n",
      " [[ 117.42461656  117.28531862  117.53968154 ...,  117.99796023\n",
      "    117.77425716  117.54073304]\n",
      "  [ 117.17355725  117.72003491  118.03513673 ...,  118.48334301\n",
      "    118.27790346  117.95322414]\n",
      "  [ 117.34280076  118.00701782  118.49952694 ...,  118.97643292\n",
      "    118.71654551  118.18502542]\n",
      "  ..., \n",
      "  [ 109.8152439   110.32930843  110.81992375 ...,  110.86114702\n",
      "    110.6332075   110.17719028]\n",
      "  [ 109.67584995  110.19589485  110.59964919 ...,  110.65675741\n",
      "    110.43431114  110.05249472]\n",
      "  [ 109.53761756  109.92114043  110.1122758  ...,  110.14345633\n",
      "    109.99183388  109.79155504]]\n",
      "\n",
      " [[ 109.98613999  109.81057264  110.05231752 ...,  110.50057142\n",
      "    110.33277206  110.14102312]\n",
      "  [ 109.68917991  110.19069042  110.47640559 ...,  110.91181742\n",
      "    110.75866026  110.48356861]\n",
      "  [ 109.82178398  110.42167282  110.860624   ...,  111.34259077\n",
      "    111.14756554  110.66481658]\n",
      "  ..., \n",
      "  [  98.09363681   98.51561251   98.90923667 ...,   99.07458174\n",
      "     98.92819338   98.56363659]\n",
      "  [  98.00550497   98.42704196   98.7626797  ...,   98.94330707\n",
      "     98.79812322   98.48819694]\n",
      "  [  97.90034223   98.21061198   98.35210035 ...,   98.51717064\n",
      "     98.43034557   98.27960756]]]\n",
      "[ 122.22585154  116.20915924  103.56548431]\n"
     ]
    }
   ],
   "source": [
    "\n",
    "img_mean = np.load('pretrained_weights/img_mean.npy')\n",
    "print 'img_mean shape : ',img_mean.shape\n",
    "print img_mean\n",
    "print np.mean(np.mean(img_mean,axis=1),axis=1)\n"
   ]
  },
  {
   "cell_type": "code",
   "execution_count": 14,
   "metadata": {
    "collapsed": false
   },
   "outputs": [
    {
     "name": "stdout",
     "output_type": "stream",
     "text": [
      "image shape(before) :  (227, 227, 3)\n",
      "image shape(after) :  (3, 227, 227)\n",
      "image shape(before) :  (227, 227, 3)\n",
      "image shape(after) :  (3, 227, 227)\n"
     ]
    }
   ],
   "source": [
    "\n",
    "file_list = ['van_gogh_starry_night.jpg', 'kaist_n1.jpg']\n",
    "\n",
    "for i in file_list: \n",
    "\n",
    "    f = misc.imread(i)\n",
    "    min_dim, max_dim = np.argmin(f.shape[:2]), np.argmax(f.shape[:2])\n",
    "\n",
    "    resize_scale = 227.0/f.shape[min_dim]\n",
    "\n",
    "    f = misc.imresize(f,[int(f.shape[0]*resize_scale),int(f.shape[1]*resize_scale)])\n",
    "    f = f[int((f.shape[0]-227.0)/2):int((f.shape[0]-227.0)/2)+227, int((f.shape[1]-227.0)/2):int((f.shape[1]-227.0)/2)+227, :]\n",
    "\n",
    "    plt.imshow(f)\n",
    "    plt.show()\n",
    "    \n",
    "    print 'image shape(before) : ',f.shape\n",
    "    f = np.transpose(f,(2,0,1))\n",
    "    print 'image shape(after) : ',f.shape\n",
    "\n",
    "    print 'f.type : ', f.dtype\n",
    "    preprocessed_img = f.astype(np.float32)-img_mean[:,16:16+227,16:16+227]\n",
    "\n",
    "    np.save(i[:len(i)-4]+'.npy',preprocessed_img)\n",
    "    "
   ]
  },
  {
   "cell_type": "code",
   "execution_count": null,
   "metadata": {
    "collapsed": true
   },
   "outputs": [],
   "source": []
  }
 ],
 "metadata": {
  "kernelspec": {
   "display_name": "Python 2",
   "language": "python",
   "name": "python2"
  },
  "language_info": {
   "codemirror_mode": {
    "name": "ipython",
    "version": 2
   },
   "file_extension": ".py",
   "mimetype": "text/x-python",
   "name": "python",
   "nbconvert_exporter": "python",
   "pygments_lexer": "ipython2",
   "version": "2.7.6"
  }
 },
 "nbformat": 4,
 "nbformat_minor": 0
}
