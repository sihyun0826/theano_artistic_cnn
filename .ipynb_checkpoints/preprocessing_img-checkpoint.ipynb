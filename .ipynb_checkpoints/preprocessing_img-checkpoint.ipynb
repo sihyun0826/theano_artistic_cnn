{
 "cells": [
  {
   "cell_type": "markdown",
   "metadata": {},
   "source": [
    "### Theano tutorial : 'A Neural Algorithm of Artistic Style'\n",
    "\n",
    "** Author : Sihyeon Seong (sihyun0826@kaist.ac.kr)\n",
    "\n",
    "Section 1 : Preprocessing input images\n",
    "\n",
    "- Load images\n",
    "- Subtracting per-pixel mean\n",
    "- Save as numpy array\n"
   ]
  },
  {
   "cell_type": "code",
   "execution_count": null,
   "metadata": {
    "collapsed": true
   },
   "outputs": [],
   "source": [
    "%matplotlib inline\n",
    "\n",
    "import numpy as np\n",
    "from os import listdir\n",
    "from os.path import isfile, join\n",
    "\n",
    "from scipy import misc\n",
    "import matplotlib.pyplot as plt\n"
   ]
  },
  {
   "cell_type": "code",
   "execution_count": null,
   "metadata": {
    "collapsed": false
   },
   "outputs": [],
   "source": [
    "\n",
    "img_mean = np.load('pretrained_weights/img_mean.npy')\n",
    "print 'img_mean shape : ',img_mean.shape\n",
    "print img_mean\n",
    "print np.mean(np.mean(img_mean,axis=1),axis=1)\n"
   ]
  },
  {
   "cell_type": "code",
   "execution_count": null,
   "metadata": {
    "collapsed": false
   },
   "outputs": [],
   "source": [
    "\n",
    "file_list = ['van_gogh_starry_night.jpg', 'kaist_n1.jpg']\n",
    "\n",
    "for i in file_list: \n",
    "\n",
    "    f = misc.imread(i)\n",
    "    min_dim, max_dim = np.argmin(f.shape[:2]), np.argmax(f.shape[:2])\n",
    "\n",
    "    resize_scale = 227.0/f.shape[min_dim]\n",
    "\n",
    "    f = misc.imresize(f,[int(f.shape[0]*resize_scale),int(f.shape[1]*resize_scale)])\n",
    "    f = f[int((f.shape[0]-227.0)/2):int((f.shape[0]-227.0)/2)+227, int((f.shape[1]-227.0)/2):int((f.shape[1]-227.0)/2)+227, :]\n",
    "\n",
    "    plt.imshow(f)\n",
    "    plt.show()\n",
    "    \n",
    "    print 'image shape(before) : ',f.shape\n",
    "    f = np.transpose(f,(2,0,1))\n",
    "    print 'image shape(after) : ',f.shape\n",
    "\n",
    "    print 'f.type : ', f.dtype\n",
    "    preprocessed_img = f.astype(np.float32)-img_mean[:,16:16+227,16:16+227]\n",
    "\n",
    "    np.save(i[:len(i)-4]+'.npy',preprocessed_img)\n",
    "    "
   ]
  },
  {
   "cell_type": "code",
   "execution_count": null,
   "metadata": {
    "collapsed": true
   },
   "outputs": [],
   "source": []
  }
 ],
 "metadata": {
  "kernelspec": {
   "display_name": "Python 2",
   "language": "python",
   "name": "python2"
  },
  "language_info": {
   "codemirror_mode": {
    "name": "ipython",
    "version": 2
   },
   "file_extension": ".py",
   "mimetype": "text/x-python",
   "name": "python",
   "nbconvert_exporter": "python",
   "pygments_lexer": "ipython2",
   "version": "2.7.6"
  }
 },
 "nbformat": 4,
 "nbformat_minor": 0
}
