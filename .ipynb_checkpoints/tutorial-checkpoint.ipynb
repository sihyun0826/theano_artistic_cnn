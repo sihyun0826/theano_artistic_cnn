{
 "cells": [
  {
   "cell_type": "markdown",
   "metadata": {},
   "source": [
    "# Theano Tutorial : A Neural Algorithm of Artistic Style\n",
    "\n",
    "Author : Sihyeon Seong ( sihyun0826@kaist.ac.kr )\n"
   ]
  },
  {
   "cell_type": "markdown",
   "metadata": {},
   "source": [
    "## Data preparation\n",
    "\n",
    "load input images and subtract global mean\n"
   ]
  },
  {
   "cell_type": "code",
   "execution_count": 88,
   "metadata": {
    "collapsed": false
   },
   "outputs": [
    {
     "name": "stdout",
     "output_type": "stream",
     "text": [
      "img_mean shape :  (3, 256, 256)\n",
      "[ 122.22585154  116.20915924  103.56548431]\n",
      "image shape(before) :  (227, 227, 3)\n",
      "image shape(after) :  (3, 227, 227)\n",
      "image shape(before) :  (227, 227, 3)\n",
      "image shape(after) :  (3, 227, 227)\n"
     ]
    }
   ],
   "source": [
    "#THEANO_FLAGS='floatX=float32,device=cpu,nvcc.fastmath=True' python artistic_alexnet_train_rmsprop.py\n",
    "\n",
    "import os\n",
    "import sys\n",
    "import timeit\n",
    "\n",
    "import numpy as np\n",
    "from os import listdir\n",
    "from os.path import isfile, join\n",
    "\n",
    "from scipy import misc\n",
    "import matplotlib.pyplot as plt\n",
    "\n",
    "import theano\n",
    "import theano.tensor as T\n",
    "from theano.tensor.signal import downsample, pool\n",
    "from theano.tensor.nnet import conv2d\n",
    "\n",
    "from pylearn2.expr.normalize import CrossChannelNormalization\n",
    "\n",
    "theano.config.floatX='float32'\n",
    "\n",
    "params_path = 'pretrained_weights/parameters_releasing'\n",
    "\n",
    "img_mean = np.load('pretrained_weights/img_mean.npy')\n",
    "print 'img_mean shape : ',img_mean.shape\n",
    "print np.mean(np.mean(img_mean,axis=1),axis=1)\n",
    "\n",
    "file_list = ['van_gogh_starry_night.jpg', 'kaist_n1.jpg']\n",
    "\n",
    "for i in file_list: \n",
    "\n",
    "    f = misc.imread(i)\n",
    "    min_dim, max_dim = np.argmin(f.shape[:2]), np.argmax(f.shape[:2])\n",
    "\n",
    "    resize_scale = 227.0/f.shape[min_dim]\n",
    "\n",
    "    f = misc.imresize(f,[int(f.shape[0]*resize_scale),int(f.shape[1]*resize_scale)])\n",
    "    f = f[int((f.shape[0]-227.0)/2):int((f.shape[0]-227.0)/2)+227, int((f.shape[1]-227.0)/2):int((f.shape[1]-227.0)/2)+227, :]\n",
    "    print 'image shape(before) : ',f.shape\n",
    "\n",
    "    plt.imshow(f)\n",
    "    plt.show()\n",
    "\n",
    "    f = np.transpose(f,(2,0,1))\n",
    "    print 'image shape(after) : ',f.shape\n",
    "\n",
    "    preprocessed_img = np.asarray(f,dtype=np.float32)-img_mean[:,16:16+227,16:16+227]\n",
    "\n",
    "    np.save(i[:len(i)-4]+'.npy',preprocessed_img)\n"
   ]
  },
  {
   "cell_type": "markdown",
   "metadata": {},
   "source": [
    "## Build our model\n",
    "\n",
    "1) Build Convolution & Pooling layer\n"
   ]
  },
  {
   "cell_type": "code",
   "execution_count": 89,
   "metadata": {
    "collapsed": true
   },
   "outputs": [],
   "source": [
    "\n",
    "class ConvPoolLayer(object):\n",
    "\n",
    "    def __init__(self, input, filter_shape, image_shape, f_params_w, f_params_b, lrn=False, t_style=None, t_content=None, convstride=1, padsize =0, group=1, poolsize = 3, poolstride = 1):\n",
    "\n",
    "        self.input = input\n",
    "\n",
    "        if t_style is not None:\n",
    "            self.t_style = np.asarray(np.load(t_style),dtype=theano.config.floatX)\n",
    "\n",
    "        if t_content is not None:\n",
    "            self.t_content = np.asarray(np.load(t_content),dtype=theano.config.floatX)\n",
    "\n",
    "        if lrn is True:\n",
    "            self.lrn_func = CrossChannelNormalization()\n",
    "\n",
    "        if group == 1:\n",
    "            self.W = theano.shared(np.asarray(np.transpose(np.load(os.path.join(params_path,f_params_w)),(3,0,1,2)),dtype=theano.config.floatX), borrow=True)\n",
    "            self.b = theano.shared(np.asarray(np.load(os.path.join(params_path,f_params_b)),dtype=theano.config.floatX), borrow=True)\n",
    "            conv_out = conv2d(input=self.input,filters=self.W,filter_shape=filter_shape,border_mode = padsize,subsample=(convstride, convstride),filter_flip=True)\n",
    "\n",
    "        elif group == 2:\n",
    "            self.filter_shape = np.asarray(filter_shape)\n",
    "            self.image_shape = np.asarray(image_shape)\n",
    "            self.filter_shape[0] = self.filter_shape[0] / 2\n",
    "            self.filter_shape[1] = self.filter_shape[1] / 2\n",
    "            self.image_shape[1] = self.image_shape[1] / 2\n",
    "            self.W0 = theano.shared(np.asarray(np.transpose(np.load(os.path.join(params_path,f_params_w[0])),(3,0,1,2)),dtype=theano.config.floatX), borrow=True)\n",
    "            self.W1 = theano.shared(np.asarray(np.transpose(np.load(os.path.join(params_path,f_params_w[1])),(3,0,1,2)),dtype=theano.config.floatX), borrow=True)\n",
    "            self.b0 = theano.shared(np.asarray(np.load(os.path.join(params_path,f_params_b[0])),dtype=theano.config.floatX), borrow=True)\n",
    "            self.b1 = theano.shared(np.asarray(np.load(os.path.join(params_path,f_params_b[1])),dtype=theano.config.floatX), borrow=True)\n",
    "            conv_out0 = conv2d(input=self.input[:,:self.image_shape[1],:,:],filters=self.W0,filter_shape=tuple(self.filter_shape),border_mode = padsize,subsample=(convstride, convstride),filter_flip=True) + self.b0.dimshuffle('x', 0, 'x', 'x')\n",
    "            conv_out1 = conv2d(input=self.input[:,self.image_shape[1]:,:,:],filters=self.W1,filter_shape=tuple(self.filter_shape),border_mode = padsize,subsample=(convstride, convstride),filter_flip=True) + self.b1.dimshuffle('x', 0, 'x', 'x')\n",
    "            conv_out = T.concatenate([conv_out0, conv_out1],axis=1)\n",
    "\n",
    "        else:\n",
    "            raise AssertionError()\n",
    "\n",
    "        relu_out = T.maximum(conv_out, 0)\n",
    "        if poolsize != 1:\n",
    "            self.output = pool.pool_2d(input=relu_out,ds=(poolsize,poolsize),ignore_border=True, st=(poolstride,poolstride),mode='average_exc_pad')\n",
    "        else:\n",
    "            self.output = relu_out\n",
    "\n",
    "        if lrn is True:\n",
    "            self.output = self.lrn_func(self.output)\n",
    "\n",
    "    def style_error(self):\n",
    "        gram_matrix_ori = T.dot(self.t_style.reshape((self.t_style.shape[1],self.t_style.shape[2]*self.t_style.shape[3])),self.t_style.reshape((self.t_style.shape[1],self.t_style.shape[2]*self.t_style.shape[3])).T)\n",
    "        gram_matrix_gen = T.dot(self.output.reshape((self.t_style.shape[1],self.t_style.shape[2]*self.t_style.shape[3])),self.output.reshape((self.t_style.shape[1],self.t_style.shape[2]*self.t_style.shape[3])).T)\n",
    "        return T.sum(T.sum((gram_matrix_gen-gram_matrix_ori)**2))/(4.0*(self.t_style.shape[1]**2)*((self.t_style.shape[2]*self.t_style.shape[3])**2))\n",
    "\n",
    "    def content_error(self):\n",
    "        return T.sum(T.sum(T.sum((self.output-self.t_content)**2)))/2.0\n",
    "    "
   ]
  },
  {
   "cell_type": "markdown",
   "metadata": {},
   "source": [
    "\n",
    "2) Build Our Models\n"
   ]
  },
  {
   "cell_type": "code",
   "execution_count": 90,
   "metadata": {
    "collapsed": false
   },
   "outputs": [
    {
     "name": "stdout",
     "output_type": "stream",
     "text": [
      "... building the model\n"
     ]
    }
   ],
   "source": [
    "\n",
    "batch_size = 1\n",
    "\n",
    "rng = np.random.RandomState(23455)\n",
    "\n",
    "lr = T.fscalar('lr')\n",
    "x = theano.shared(input_img,borrow=True)\n",
    "print('... building the model')\n"
   ]
  },
  {
   "cell_type": "code",
   "execution_count": 91,
   "metadata": {
    "collapsed": true
   },
   "outputs": [],
   "source": [
    "\n",
    "layer1_input = x.reshape((batch_size, 3, 227, 227))\n",
    "\n",
    "convpool_layer1 = ConvPoolLayer(input=layer1_input, image_shape=(batch_size, 3, 227, 227), \n",
    "                                filter_shape=(96, 3, 11, 11), \n",
    "                                f_params_w='W_0_65.npy', \n",
    "                                f_params_b='b_0_65.npy', \n",
    "                                t_style = 'cnn_features/van_gogh_starry_night_1.npy', \n",
    "                                t_content = 'cnn_features/kaist_n1_1.npy', \n",
    "                                lrn=True, convstride=4, padsize=0, group=1, poolsize=3, poolstride=2)\n",
    "\n",
    "convpool_layer2 = ConvPoolLayer(input=convpool_layer1.output,image_shape=(batch_size, 96, 27, 27),\n",
    "                                filter_shape=(256, 96, 5, 5), \n",
    "                                f_params_w=['W0_1_65.npy','W1_1_65.npy'],\n",
    "                                f_params_b=['b0_1_65.npy','b1_1_65.npy'],\n",
    "                                t_style = 'cnn_features/van_gogh_starry_night_2.npy', \n",
    "                                lrn=True, convstride=1, padsize=2, group=2, poolsize=3, poolstride=2)\n",
    "\n",
    "convpool_layer3 = ConvPoolLayer(input=convpool_layer2.output,image_shape=(batch_size, 256, 13, 13),\n",
    "                                filter_shape=(384, 256, 3, 3), \n",
    "                                f_params_w='W_2_65.npy', \n",
    "                                f_params_b='b_2_65.npy', \n",
    "                                t_style = 'cnn_features/van_gogh_starry_night_3.npy',\n",
    "                                convstride=1, padsize=1, group=1,poolsize=1, poolstride=0)\n",
    "\n",
    "convpool_layer4 = ConvPoolLayer(input=convpool_layer3.output,image_shape=(batch_size, 384, 13, 13),\n",
    "                                filter_shape=(384, 384, 3, 3), \n",
    "                                f_params_w=['W0_3_65.npy','W1_3_65.npy'], \n",
    "                                t_style = 'cnn_features/van_gogh_starry_night_4.npy', \n",
    "                                f_params_b=['b0_3_65.npy','b1_3_65.npy'],\n",
    "                                convstride=1, padsize=1, group=2,poolsize=1, poolstride=0)\n",
    "\n",
    "convpool_layer5 = ConvPoolLayer(input=convpool_layer4.output,image_shape=(batch_size, 384, 13, 13),\n",
    "                                filter_shape=(256, 384, 3, 3), \n",
    "                                f_params_w=['W0_4_65.npy','W1_4_65.npy'], \n",
    "                                t_style = 'cnn_features/van_gogh_starry_night_5.npy', \n",
    "                                f_params_b=['b0_4_65.npy','b1_4_65.npy'], \n",
    "                                convstride=1, padsize=1, group=2,poolsize=3, poolstride=2)\n",
    "\n",
    "cost= 0.2*(convpool_layer1.style_error() + convpool_layer2.style_error() \n",
    "           + convpool_layer3.style_error() + convpool_layer4.style_error() \n",
    "           + convpool_layer5.style_error()) + 0.00002*convpool_layer1.content_error()\n",
    "\n"
   ]
  },
  {
   "cell_type": "code",
   "execution_count": 92,
   "metadata": {
    "collapsed": false
   },
   "outputs": [
    {
     "name": "stdout",
     "output_type": "stream",
     "text": [
      "... train\n"
     ]
    }
   ],
   "source": [
    "\n",
    "print('... train')\n",
    "\n",
    "params = x\n",
    "\n",
    "grads = T.grad(cost, params)\n",
    "\n",
    "#####RMSprop\n",
    "decay = 0.9\n",
    "max_scaling=1e5\n",
    "epsilon = 1. / max_scaling\n",
    "\n",
    "vels = theano.shared(params.get_value() * 0.) \n",
    "\n",
    "new_mean_squared_grad = (decay * vels + (1 - decay) * T.sqr(grads))\n",
    "rms_grad_t = T.sqrt(new_mean_squared_grad)\n",
    "delta_x_t = - lr * grads / rms_grad_t\n",
    "\n",
    "updates=[]\n",
    "updates.append((params,params + delta_x_t))\n",
    "updates.append((vels,new_mean_squared_grad))\n",
    "\n",
    "\n",
    "inference_model = theano.function(\n",
    "    [],\n",
    "    [convpool_layer1.output, convpool_layer2.output, convpool_layer3.output, convpool_layer4.output, convpool_layer5.output],\n",
    "    givens={\n",
    "        x: input_img\n",
    "    }\n",
    ")\n"
   ]
  },
  {
   "cell_type": "code",
   "execution_count": 93,
   "metadata": {
    "collapsed": false
   },
   "outputs": [
    {
     "name": "stdout",
     "output_type": "stream",
     "text": [
      "... inference\n",
      "cnn_features/kaist_n1_1.npy saved\n",
      "cnn_features/kaist_n1_2.npy saved\n",
      "cnn_features/kaist_n1_3.npy saved\n",
      "cnn_features/kaist_n1_4.npy saved\n",
      "cnn_features/kaist_n1_5.npy saved\n"
     ]
    }
   ],
   "source": [
    "\n",
    "print('... inference')\n",
    "\n",
    "x.set_value(np.load('van_gogh_starry_night.npy').astype(np.float32).reshape(1,3,227,227))\n",
    "\n",
    "results1 = inference_model()\n",
    "\n",
    "x.set_value(np.load('kaist_n1.npy').astype(np.float32).reshape(1,3,227,227))\n",
    "\n",
    "results2 = inference_model()\n",
    "\n",
    "for i in xrange(5):\n",
    "    filestr = 'cnn_features/'+file_list[0][:len(file_list[0])-4]+'_%d.npy'%(i+1)\n",
    "    np.save(filestr,results1[i])\n",
    "    filestr = 'cnn_features/'+file_list[1][:len(file_list[1])-4]+'_%d.npy'%(i+1)\n",
    "    np.save(filestr,results2[i])\n",
    "    print '%s saved'%filestr\n",
    "\n",
    "img_out = theano.function([],x)\n",
    "\n",
    "train_model = theano.function([lr],cost,updates=updates)\n",
    "    "
   ]
  },
  {
   "cell_type": "markdown",
   "metadata": {},
   "source": [
    "### Generate input images"
   ]
  },
  {
   "cell_type": "code",
   "execution_count": null,
   "metadata": {
    "collapsed": false
   },
   "outputs": [],
   "source": [
    "\n",
    "x.set_value(np.random.normal(0.0, 1.0, size=(1,3,227,227)).astype(np.float32))\n",
    "\n",
    "img_mean = np.load('pretrained_weights/img_mean.npy')\n",
    "img_mean = np.transpose(img_mean,(1,2,0))\n",
    "\n",
    "tmp = np.transpose(np.squeeze(input_img),(1,2,0))\n",
    "\n",
    "recon = tmp+img_mean[16:16+227,16:16+227,:]\n",
    "\n",
    "fig = plt.figure()\n",
    "fig_handle = plt.imshow(recon.astype(np.uint8))\n",
    "fig.show()\n"
   ]
  },
  {
   "cell_type": "code",
   "execution_count": null,
   "metadata": {
    "collapsed": false
   },
   "outputs": [
    {
     "name": "stdout",
     "output_type": "stream",
     "text": [
      "1897.91088867  / epochs :  1\n",
      "1542.4642334  / epochs :  2\n",
      "1337.92810059  / epochs :  3\n",
      "1198.8614502  / epochs :  4\n",
      "1092.32348633  / epochs :  5\n",
      "1005.84790039  / epochs :  6\n",
      "932.965454102  / epochs :  7\n",
      "870.639343262  / epochs :  8\n",
      "816.007873535  / epochs :  9\n",
      "766.907714844  / epochs :  10\n",
      "723.359924316  / epochs :  11\n",
      "683.648071289  / epochs :  12\n",
      "647.439880371  / epochs :  13\n",
      "614.358093262  / epochs :  14\n",
      "583.717895508  / epochs :  15\n",
      "555.446777344  / epochs :  16\n",
      "529.023803711  / epochs :  17\n",
      "504.585327148  / epochs :  18\n",
      "481.651123047  / epochs :  19\n",
      "460.347106934  / epochs :  20\n",
      "440.267333984  / epochs :  21\n",
      "421.392456055  / epochs :  22\n",
      "403.350982666  / epochs :  23\n",
      "386.774505615  / epochs :  24\n",
      "370.733306885  / epochs :  25\n",
      "355.711761475  / epochs :  26\n",
      "341.130096436  / epochs :  27\n",
      "327.312225342  / epochs :  28\n",
      "314.278594971  / epochs :  29\n",
      "301.829223633  / epochs :  30\n",
      "290.003662109  / epochs :  31\n",
      "278.669494629  / epochs :  32\n",
      "267.842773438  / epochs :  33\n",
      "257.593261719  / epochs :  34\n",
      "247.784103394  / epochs :  35\n",
      "238.445175171  / epochs :  36\n",
      "229.423217773  / epochs :  37\n",
      "220.850311279  / epochs :  38\n",
      "212.594604492  / epochs :  39\n",
      "204.707290649  / epochs :  40\n",
      "197.161865234  / epochs :  41\n",
      "189.937774658  / epochs :  42\n",
      "182.974075317  / epochs :  43\n",
      "176.315048218  / epochs :  44\n",
      "169.933242798  / epochs :  45\n",
      "163.877212524  / epochs :  46\n",
      "157.934539795  / epochs :  47\n",
      "152.358078003  / epochs :  48\n",
      "146.948562622  / epochs :  49\n",
      "141.855957031  / epochs :  50\n",
      "136.845550537  / epochs :  51\n",
      "132.13432312  / epochs :  52\n",
      "127.542861938  / epochs :  53\n",
      "123.210289001  / epochs :  54\n",
      "118.942573547  / epochs :  55\n",
      "114.998771667  / epochs :  56\n",
      "111.100067139  / epochs :  57\n",
      "107.343856812  / epochs :  58\n",
      "103.689338684  / epochs :  59\n",
      "100.230369568  / epochs :  60\n",
      "96.9297409058  / epochs :  61\n",
      "93.6495132446  / epochs :  62\n",
      "90.5406265259  / epochs :  63\n",
      "87.558052063  / epochs :  64\n",
      "84.6234054565  / epochs :  65\n",
      "81.80128479  / epochs :  66\n",
      "79.0668640137  / epochs :  67\n",
      "76.4743728638  / epochs :  68\n",
      "73.9647064209  / epochs :  69\n",
      "71.474609375  / epochs :  70\n",
      "69.0368270874  / epochs :  71\n",
      "66.6956558228  / epochs :  72\n",
      "64.3843078613  / epochs :  73\n",
      "62.2219581604  / epochs :  74\n",
      "60.0939178467  / epochs :  75\n",
      "58.0353927612  / epochs :  76\n",
      "56.0408859253  / epochs :  77\n",
      "54.0817222595  / epochs :  78\n",
      "52.2015724182  / epochs :  79\n",
      "50.4009971619  / epochs :  80\n",
      "48.6301574707  / epochs :  81\n",
      "46.8830337524  / epochs :  82\n",
      "45.2126083374  / epochs :  83\n"
     ]
    }
   ],
   "source": [
    "\n",
    "n_epochs = 3000\n",
    "learning_rate = 1.0\n",
    "schedules = [5000,12000]\n",
    "lr_phase = 0\n",
    "for i in xrange(1, n_epochs):\n",
    "    img_gen = np.transpose(np.squeeze(img_out()),(1,2,0))\n",
    "    recon = img_gen+img_mean[16:16+227,16:16+227,:]\n",
    "    fig_handle.set_data(recon.astype(np.uint8))\n",
    "    fig.canvas.draw()\n",
    "\n",
    "    print train_model(learning_rate), ' / epochs : ', i\n",
    "\n",
    "    if i%1000==0:\n",
    "        results = img_out()\n",
    "        np.save('results.npy',results)\n",
    "        "
   ]
  },
  {
   "cell_type": "code",
   "execution_count": null,
   "metadata": {
    "collapsed": false
   },
   "outputs": [],
   "source": [
    "plt.close()\n"
   ]
  },
  {
   "cell_type": "code",
   "execution_count": null,
   "metadata": {
    "collapsed": true
   },
   "outputs": [],
   "source": []
  },
  {
   "cell_type": "code",
   "execution_count": null,
   "metadata": {
    "collapsed": true
   },
   "outputs": [],
   "source": []
  }
 ],
 "metadata": {
  "kernelspec": {
   "display_name": "Python 2",
   "language": "python",
   "name": "python2"
  },
  "language_info": {
   "codemirror_mode": {
    "name": "ipython",
    "version": 2
   },
   "file_extension": ".py",
   "mimetype": "text/x-python",
   "name": "python",
   "nbconvert_exporter": "python",
   "pygments_lexer": "ipython2",
   "version": "2.7.6"
  }
 },
 "nbformat": 4,
 "nbformat_minor": 0
}
