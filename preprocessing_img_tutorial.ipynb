{
 "cells": [
  {
   "cell_type": "markdown",
   "metadata": {},
   "source": [
    "### Theano tutorial : 'A Neural Algorithm of Artistic Style'\n",
    "\n",
    "** Author : Sihyeon Seong (sihyun0826@kaist.ac.kr)\n",
    "\n",
    "Section 1 : Preprocessing input images\n",
    "\n",
    "- Load images\n",
    "- Subtracting per-pixel mean\n",
    "- Save as numpy array\n"
   ]
  },
  {
   "cell_type": "code",
   "execution_count": null,
   "metadata": {
    "collapsed": true
   },
   "outputs": [],
   "source": [
    "%matplotlib inline\n",
    "\n",
    "import numpy as np\n",
    "from os import listdir\n",
    "from os.path import isfile, join\n",
    "\n",
    "from scipy import misc\n",
    "import matplotlib.pyplot as plt\n"
   ]
  },
  {
   "cell_type": "code",
   "execution_count": null,
   "metadata": {
    "collapsed": false
   },
   "outputs": [],
   "source": [
    "\n",
    "img_mean = np.load('pretrained_weights/img_mean.npy')\n",
    "\n",
    "print 'img_mean shape : ',img_mean.shape\n",
    "print img_mean\n",
    "print np.mean(np.mean(img_mean,axis=1),axis=1)\n"
   ]
  },
  {
   "cell_type": "code",
   "execution_count": null,
   "metadata": {
    "collapsed": false
   },
   "outputs": [],
   "source": [
    "\n",
    "file_list = ['van_gogh_starry_night.jpg', 'kaist_n1.jpg']\n",
    "\n",
    "for i in file_list: \n",
    "\n",
    "    f = misc.imread(i)\n",
    "    min_dim, max_dim = np.argmin(f.shape[:2]), np.argmax(f.shape[:2])\n",
    "\n",
    "    resize_scale = 227.0/f.shape[min_dim]\n",
    "\n",
    "    f = misc.imresize(f,[int(f.shape[0]*resize_scale),int(f.shape[1]*resize_scale)])\n",
    "    f = f[int((f.shape[0]-227.0)/2):int((f.shape[0]-227.0)/2)+227, int((f.shape[1]-227.0)/2):int((f.shape[1]-227.0)/2)+227, :]\n",
    "\n",
    "    plt.imshow(f)\n",
    "    plt.show()\n",
    "\n",
    "    \"\"\"\n",
    "    Currently, the shape of f is (227,227,3). \n",
    "    However, input shape for Theano is (num_channel, width, height)\n",
    "    Convert f to be theano-compatible : Shuffle dimension, so shape of f (227,227,3) to be (3,227,227).\n",
    "    Use np.transpose\n",
    "    \n",
    "    <examples of np.transpose>\n",
    "    >>> x = np.ones((1, 2, 3))\n",
    "    >>> np.transpose(x, (1, 0, 2)).shape\n",
    "    (2, 1, 3)\n",
    "    \n",
    "    After successfully shuffling dimension, convert data type of f to float32. Then subtract per-pixel image mean.\n",
    "    The shape of per-pixel mean is (3,256,256), therefore, you should crop it to (3,227,227)\n",
    "    you can get data type of numpy array x by calling x.dtype\n",
    "    convert data type of f using f.astype\n",
    "    \n",
    "    <examples of numpy.astype>\n",
    "    >>> z.astype(float)                 \n",
    "    array([  0.,  1.,  2.])\n",
    "    \"\"\"\n",
    "    \n",
    "    #---PLEASE WRITE CODE HERE---\n",
    "    #print current the shape of f <step 1>\n",
    "    #CODE\n",
    "    #f = (shuffle dimension of f) <step 2>\n",
    "    #CODE\n",
    "    #print transposed shape of f <step 3>\n",
    "    #CODE\n",
    "    #print data type of f <step 4>\n",
    "    #CODE\n",
    "    #preprocessing_img = (convert f to np.float32) - (img_mean[crop to (3,227,227)]) <step 5>\n",
    "    #CODE\n",
    "\n",
    "    np.save(i[:len(i)-4]+'.npy',preprocessed_img)\n",
    "    "
   ]
  }
 ],
 "metadata": {
  "kernelspec": {
   "display_name": "Python 2",
   "language": "python",
   "name": "python2"
  },
  "language_info": {
   "codemirror_mode": {
    "name": "ipython",
    "version": 2
   },
   "file_extension": ".py",
   "mimetype": "text/x-python",
   "name": "python",
   "nbconvert_exporter": "python",
   "pygments_lexer": "ipython2",
   "version": "2.7.6"
  }
 },
 "nbformat": 4,
 "nbformat_minor": 0
}
